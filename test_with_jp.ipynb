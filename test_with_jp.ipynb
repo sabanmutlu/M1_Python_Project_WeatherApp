{
 "cells": [
  {
   "cell_type": "markdown",
   "metadata": {},
   "source": [
    "\n",
    "\"\"\"\n",
    "    url = f'https://api.openweathermap.org/data/2.5/forecast?q={stadt},{land}&appid={api_key}&units=metric' \\\n",
    "            f'&lang=de'\n",
    "    response = requests.get(url)\n",
    "    data = json.loads(response.text)\n",
    "\"\"\"\n",
    "\n",
    "\n",
    "\n",
    "\n",
    "\n",
    "\"\"\"\n",
    "    dfl = pd.json_normalize(data['list'])\n",
    "    dfs = pd.json_normalize(data['city'])\n",
    "    dfs\n",
    "\n",
    "    with open('data.json', 'w', encoding='utf-8') as f:\n",
    "        json.dump(data, f, ensure_ascii=False, indent=4)\n",
    "\n",
    "    with open(\"data.json\") as f:\n",
    "        lines = f.readlines()\n",
    "        print(lines)\n",
    "\"\"\""
   ]
  },
  {
   "cell_type": "code",
   "execution_count": 102,
   "metadata": {},
   "outputs": [
    {
     "name": "stderr",
     "output_type": "stream",
     "text": [
      "c:\\Users\\alfa\\anaconda3\\lib\\site-packages\\pandas\\io\\sql.py:761: UserWarning: pandas only support SQLAlchemy connectable(engine/connection) ordatabase string URI or sqlite3 DBAPI2 connectionother DBAPI2 objects are not tested, please consider using SQLAlchemy\n",
      "  warnings.warn(\n"
     ]
    },
    {
     "ename": "AttributeError",
     "evalue": "'function' object has no attribute 'cursor'",
     "output_type": "error",
     "traceback": [
      "\u001b[1;31m---------------------------------------------------------------------------\u001b[0m",
      "\u001b[1;31mAttributeError\u001b[0m                            Traceback (most recent call last)",
      "\u001b[1;32mc:\\Users\\alfa\\PycharmProjects\\WeatherApp\\test_with_jp.ipynb Cell 2'\u001b[0m in \u001b[0;36m<cell line: 18>\u001b[1;34m()\u001b[0m\n\u001b[0;32m     <a href='vscode-notebook-cell:/c%3A/Users/alfa/PycharmProjects/WeatherApp/test_with_jp.ipynb#ch0000000?line=15'>16</a>\u001b[0m dfl\u001b[39m.\u001b[39mrename(columns \u001b[39m=\u001b[39m {\u001b[39m'\u001b[39m\u001b[39mid\u001b[39m\u001b[39m'\u001b[39m:\u001b[39m'\u001b[39m\u001b[39mcity_id\u001b[39m\u001b[39m'\u001b[39m, \u001b[39m'\u001b[39m\u001b[39mname\u001b[39m\u001b[39m'\u001b[39m:\u001b[39m'\u001b[39m\u001b[39mcity_name\u001b[39m\u001b[39m'\u001b[39m, \u001b[39m\"\u001b[39m\u001b[39mcoord.lat\u001b[39m\u001b[39m\"\u001b[39m:\u001b[39m\"\u001b[39m\u001b[39mcoord_lat\u001b[39m\u001b[39m\"\u001b[39m, \u001b[39m\"\u001b[39m\u001b[39mcoord.lon\u001b[39m\u001b[39m\"\u001b[39m:\u001b[39m\"\u001b[39m\u001b[39mcoord_lon\u001b[39m\u001b[39m\"\u001b[39m}, inplace\u001b[39m=\u001b[39m\u001b[39mTrue\u001b[39;00m)\n\u001b[0;32m     <a href='vscode-notebook-cell:/c%3A/Users/alfa/PycharmProjects/WeatherApp/test_with_jp.ipynb#ch0000000?line=16'>17</a>\u001b[0m dfl[\u001b[39m\"\u001b[39m\u001b[39mcreate_date\u001b[39m\u001b[39m\"\u001b[39m] \u001b[39m=\u001b[39m datetime\u001b[39m.\u001b[39mdatetime\u001b[39m.\u001b[39mnow()\n\u001b[1;32m---> <a href='vscode-notebook-cell:/c%3A/Users/alfa/PycharmProjects/WeatherApp/test_with_jp.ipynb#ch0000000?line=17'>18</a>\u001b[0m df\u001b[39m.\u001b[39;49mto_sql(dfl, con\u001b[39m=\u001b[39;49mcreate_connection, index\u001b[39m=\u001b[39;49m\u001b[39mFalse\u001b[39;49;00m)\n",
      "File \u001b[1;32mc:\\Users\\alfa\\anaconda3\\lib\\site-packages\\pandas\\core\\generic.py:2951\u001b[0m, in \u001b[0;36mNDFrame.to_sql\u001b[1;34m(self, name, con, schema, if_exists, index, index_label, chunksize, dtype, method)\u001b[0m\n\u001b[0;32m   <a href='file:///c%3A/Users/alfa/anaconda3/lib/site-packages/pandas/core/generic.py?line=2793'>2794</a>\u001b[0m \u001b[39m\"\"\"\u001b[39;00m\n\u001b[0;32m   <a href='file:///c%3A/Users/alfa/anaconda3/lib/site-packages/pandas/core/generic.py?line=2794'>2795</a>\u001b[0m \u001b[39mWrite records stored in a DataFrame to a SQL database.\u001b[39;00m\n\u001b[0;32m   <a href='file:///c%3A/Users/alfa/anaconda3/lib/site-packages/pandas/core/generic.py?line=2795'>2796</a>\u001b[0m \n\u001b[1;32m   (...)\u001b[0m\n\u001b[0;32m   <a href='file:///c%3A/Users/alfa/anaconda3/lib/site-packages/pandas/core/generic.py?line=2946'>2947</a>\u001b[0m \u001b[39m[(1,), (None,), (2,)]\u001b[39;00m\n\u001b[0;32m   <a href='file:///c%3A/Users/alfa/anaconda3/lib/site-packages/pandas/core/generic.py?line=2947'>2948</a>\u001b[0m \u001b[39m\"\"\"\u001b[39;00m  \u001b[39m# noqa:E501\u001b[39;00m\n\u001b[0;32m   <a href='file:///c%3A/Users/alfa/anaconda3/lib/site-packages/pandas/core/generic.py?line=2948'>2949</a>\u001b[0m \u001b[39mfrom\u001b[39;00m \u001b[39mpandas\u001b[39;00m\u001b[39m.\u001b[39;00m\u001b[39mio\u001b[39;00m \u001b[39mimport\u001b[39;00m sql\n\u001b[1;32m-> <a href='file:///c%3A/Users/alfa/anaconda3/lib/site-packages/pandas/core/generic.py?line=2950'>2951</a>\u001b[0m \u001b[39mreturn\u001b[39;00m sql\u001b[39m.\u001b[39;49mto_sql(\n\u001b[0;32m   <a href='file:///c%3A/Users/alfa/anaconda3/lib/site-packages/pandas/core/generic.py?line=2951'>2952</a>\u001b[0m     \u001b[39mself\u001b[39;49m,\n\u001b[0;32m   <a href='file:///c%3A/Users/alfa/anaconda3/lib/site-packages/pandas/core/generic.py?line=2952'>2953</a>\u001b[0m     name,\n\u001b[0;32m   <a href='file:///c%3A/Users/alfa/anaconda3/lib/site-packages/pandas/core/generic.py?line=2953'>2954</a>\u001b[0m     con,\n\u001b[0;32m   <a href='file:///c%3A/Users/alfa/anaconda3/lib/site-packages/pandas/core/generic.py?line=2954'>2955</a>\u001b[0m     schema\u001b[39m=\u001b[39;49mschema,\n\u001b[0;32m   <a href='file:///c%3A/Users/alfa/anaconda3/lib/site-packages/pandas/core/generic.py?line=2955'>2956</a>\u001b[0m     if_exists\u001b[39m=\u001b[39;49mif_exists,\n\u001b[0;32m   <a href='file:///c%3A/Users/alfa/anaconda3/lib/site-packages/pandas/core/generic.py?line=2956'>2957</a>\u001b[0m     index\u001b[39m=\u001b[39;49mindex,\n\u001b[0;32m   <a href='file:///c%3A/Users/alfa/anaconda3/lib/site-packages/pandas/core/generic.py?line=2957'>2958</a>\u001b[0m     index_label\u001b[39m=\u001b[39;49mindex_label,\n\u001b[0;32m   <a href='file:///c%3A/Users/alfa/anaconda3/lib/site-packages/pandas/core/generic.py?line=2958'>2959</a>\u001b[0m     chunksize\u001b[39m=\u001b[39;49mchunksize,\n\u001b[0;32m   <a href='file:///c%3A/Users/alfa/anaconda3/lib/site-packages/pandas/core/generic.py?line=2959'>2960</a>\u001b[0m     dtype\u001b[39m=\u001b[39;49mdtype,\n\u001b[0;32m   <a href='file:///c%3A/Users/alfa/anaconda3/lib/site-packages/pandas/core/generic.py?line=2960'>2961</a>\u001b[0m     method\u001b[39m=\u001b[39;49mmethod,\n\u001b[0;32m   <a href='file:///c%3A/Users/alfa/anaconda3/lib/site-packages/pandas/core/generic.py?line=2961'>2962</a>\u001b[0m )\n",
      "File \u001b[1;32mc:\\Users\\alfa\\anaconda3\\lib\\site-packages\\pandas\\io\\sql.py:697\u001b[0m, in \u001b[0;36mto_sql\u001b[1;34m(frame, name, con, schema, if_exists, index, index_label, chunksize, dtype, method, engine, **engine_kwargs)\u001b[0m\n\u001b[0;32m    <a href='file:///c%3A/Users/alfa/anaconda3/lib/site-packages/pandas/io/sql.py?line=691'>692</a>\u001b[0m \u001b[39melif\u001b[39;00m \u001b[39mnot\u001b[39;00m \u001b[39misinstance\u001b[39m(frame, DataFrame):\n\u001b[0;32m    <a href='file:///c%3A/Users/alfa/anaconda3/lib/site-packages/pandas/io/sql.py?line=692'>693</a>\u001b[0m     \u001b[39mraise\u001b[39;00m \u001b[39mNotImplementedError\u001b[39;00m(\n\u001b[0;32m    <a href='file:///c%3A/Users/alfa/anaconda3/lib/site-packages/pandas/io/sql.py?line=693'>694</a>\u001b[0m         \u001b[39m\"\u001b[39m\u001b[39m'\u001b[39m\u001b[39mframe\u001b[39m\u001b[39m'\u001b[39m\u001b[39m argument should be either a Series or a DataFrame\u001b[39m\u001b[39m\"\u001b[39m\n\u001b[0;32m    <a href='file:///c%3A/Users/alfa/anaconda3/lib/site-packages/pandas/io/sql.py?line=694'>695</a>\u001b[0m     )\n\u001b[1;32m--> <a href='file:///c%3A/Users/alfa/anaconda3/lib/site-packages/pandas/io/sql.py?line=696'>697</a>\u001b[0m \u001b[39mreturn\u001b[39;00m pandas_sql\u001b[39m.\u001b[39mto_sql(\n\u001b[0;32m    <a href='file:///c%3A/Users/alfa/anaconda3/lib/site-packages/pandas/io/sql.py?line=697'>698</a>\u001b[0m     frame,\n\u001b[0;32m    <a href='file:///c%3A/Users/alfa/anaconda3/lib/site-packages/pandas/io/sql.py?line=698'>699</a>\u001b[0m     name,\n\u001b[0;32m    <a href='file:///c%3A/Users/alfa/anaconda3/lib/site-packages/pandas/io/sql.py?line=699'>700</a>\u001b[0m     if_exists\u001b[39m=\u001b[39mif_exists,\n\u001b[0;32m    <a href='file:///c%3A/Users/alfa/anaconda3/lib/site-packages/pandas/io/sql.py?line=700'>701</a>\u001b[0m     index\u001b[39m=\u001b[39mindex,\n\u001b[0;32m    <a href='file:///c%3A/Users/alfa/anaconda3/lib/site-packages/pandas/io/sql.py?line=701'>702</a>\u001b[0m     index_label\u001b[39m=\u001b[39mindex_label,\n\u001b[0;32m    <a href='file:///c%3A/Users/alfa/anaconda3/lib/site-packages/pandas/io/sql.py?line=702'>703</a>\u001b[0m     schema\u001b[39m=\u001b[39mschema,\n\u001b[0;32m    <a href='file:///c%3A/Users/alfa/anaconda3/lib/site-packages/pandas/io/sql.py?line=703'>704</a>\u001b[0m     chunksize\u001b[39m=\u001b[39mchunksize,\n\u001b[0;32m    <a href='file:///c%3A/Users/alfa/anaconda3/lib/site-packages/pandas/io/sql.py?line=704'>705</a>\u001b[0m     dtype\u001b[39m=\u001b[39mdtype,\n\u001b[0;32m    <a href='file:///c%3A/Users/alfa/anaconda3/lib/site-packages/pandas/io/sql.py?line=705'>706</a>\u001b[0m     method\u001b[39m=\u001b[39mmethod,\n\u001b[0;32m    <a href='file:///c%3A/Users/alfa/anaconda3/lib/site-packages/pandas/io/sql.py?line=706'>707</a>\u001b[0m     engine\u001b[39m=\u001b[39mengine,\n\u001b[0;32m    <a href='file:///c%3A/Users/alfa/anaconda3/lib/site-packages/pandas/io/sql.py?line=707'>708</a>\u001b[0m     \u001b[39m*\u001b[39m\u001b[39m*\u001b[39mengine_kwargs,\n\u001b[0;32m    <a href='file:///c%3A/Users/alfa/anaconda3/lib/site-packages/pandas/io/sql.py?line=708'>709</a>\u001b[0m )\n",
      "File \u001b[1;32mc:\\Users\\alfa\\anaconda3\\lib\\site-packages\\pandas\\io\\sql.py:2189\u001b[0m, in \u001b[0;36mSQLiteDatabase.to_sql\u001b[1;34m(self, frame, name, if_exists, index, index_label, schema, chunksize, dtype, method, **kwargs)\u001b[0m\n\u001b[0;32m   <a href='file:///c%3A/Users/alfa/anaconda3/lib/site-packages/pandas/io/sql.py?line=2177'>2178</a>\u001b[0m             \u001b[39mraise\u001b[39;00m \u001b[39mValueError\u001b[39;00m(\u001b[39mf\u001b[39m\u001b[39m\"\u001b[39m\u001b[39m{\u001b[39;00mcol\u001b[39m}\u001b[39;00m\u001b[39m (\u001b[39m\u001b[39m{\u001b[39;00mmy_type\u001b[39m}\u001b[39;00m\u001b[39m) not a string\u001b[39m\u001b[39m\"\u001b[39m)\n\u001b[0;32m   <a href='file:///c%3A/Users/alfa/anaconda3/lib/site-packages/pandas/io/sql.py?line=2179'>2180</a>\u001b[0m table \u001b[39m=\u001b[39m SQLiteTable(\n\u001b[0;32m   <a href='file:///c%3A/Users/alfa/anaconda3/lib/site-packages/pandas/io/sql.py?line=2180'>2181</a>\u001b[0m     name,\n\u001b[0;32m   <a href='file:///c%3A/Users/alfa/anaconda3/lib/site-packages/pandas/io/sql.py?line=2181'>2182</a>\u001b[0m     \u001b[39mself\u001b[39m,\n\u001b[1;32m   (...)\u001b[0m\n\u001b[0;32m   <a href='file:///c%3A/Users/alfa/anaconda3/lib/site-packages/pandas/io/sql.py?line=2186'>2187</a>\u001b[0m     dtype\u001b[39m=\u001b[39mdtype,\n\u001b[0;32m   <a href='file:///c%3A/Users/alfa/anaconda3/lib/site-packages/pandas/io/sql.py?line=2187'>2188</a>\u001b[0m )\n\u001b[1;32m-> <a href='file:///c%3A/Users/alfa/anaconda3/lib/site-packages/pandas/io/sql.py?line=2188'>2189</a>\u001b[0m table\u001b[39m.\u001b[39;49mcreate()\n\u001b[0;32m   <a href='file:///c%3A/Users/alfa/anaconda3/lib/site-packages/pandas/io/sql.py?line=2189'>2190</a>\u001b[0m \u001b[39mreturn\u001b[39;00m table\u001b[39m.\u001b[39minsert(chunksize, method)\n",
      "File \u001b[1;32mc:\\Users\\alfa\\anaconda3\\lib\\site-packages\\pandas\\io\\sql.py:831\u001b[0m, in \u001b[0;36mSQLTable.create\u001b[1;34m(self)\u001b[0m\n\u001b[0;32m    <a href='file:///c%3A/Users/alfa/anaconda3/lib/site-packages/pandas/io/sql.py?line=829'>830</a>\u001b[0m \u001b[39mdef\u001b[39;00m \u001b[39mcreate\u001b[39m(\u001b[39mself\u001b[39m):\n\u001b[1;32m--> <a href='file:///c%3A/Users/alfa/anaconda3/lib/site-packages/pandas/io/sql.py?line=830'>831</a>\u001b[0m     \u001b[39mif\u001b[39;00m \u001b[39mself\u001b[39;49m\u001b[39m.\u001b[39;49mexists():\n\u001b[0;32m    <a href='file:///c%3A/Users/alfa/anaconda3/lib/site-packages/pandas/io/sql.py?line=831'>832</a>\u001b[0m         \u001b[39mif\u001b[39;00m \u001b[39mself\u001b[39m\u001b[39m.\u001b[39mif_exists \u001b[39m==\u001b[39m \u001b[39m\"\u001b[39m\u001b[39mfail\u001b[39m\u001b[39m\"\u001b[39m:\n\u001b[0;32m    <a href='file:///c%3A/Users/alfa/anaconda3/lib/site-packages/pandas/io/sql.py?line=832'>833</a>\u001b[0m             \u001b[39mraise\u001b[39;00m \u001b[39mValueError\u001b[39;00m(\u001b[39mf\u001b[39m\u001b[39m\"\u001b[39m\u001b[39mTable \u001b[39m\u001b[39m'\u001b[39m\u001b[39m{\u001b[39;00m\u001b[39mself\u001b[39m\u001b[39m.\u001b[39mname\u001b[39m}\u001b[39;00m\u001b[39m'\u001b[39m\u001b[39m already exists.\u001b[39m\u001b[39m\"\u001b[39m)\n",
      "File \u001b[1;32mc:\\Users\\alfa\\anaconda3\\lib\\site-packages\\pandas\\io\\sql.py:815\u001b[0m, in \u001b[0;36mSQLTable.exists\u001b[1;34m(self)\u001b[0m\n\u001b[0;32m    <a href='file:///c%3A/Users/alfa/anaconda3/lib/site-packages/pandas/io/sql.py?line=813'>814</a>\u001b[0m \u001b[39mdef\u001b[39;00m \u001b[39mexists\u001b[39m(\u001b[39mself\u001b[39m):\n\u001b[1;32m--> <a href='file:///c%3A/Users/alfa/anaconda3/lib/site-packages/pandas/io/sql.py?line=814'>815</a>\u001b[0m     \u001b[39mreturn\u001b[39;00m \u001b[39mself\u001b[39;49m\u001b[39m.\u001b[39;49mpd_sql\u001b[39m.\u001b[39;49mhas_table(\u001b[39mself\u001b[39;49m\u001b[39m.\u001b[39;49mname, \u001b[39mself\u001b[39;49m\u001b[39m.\u001b[39;49mschema)\n",
      "File \u001b[1;32mc:\\Users\\alfa\\anaconda3\\lib\\site-packages\\pandas\\io\\sql.py:2197\u001b[0m, in \u001b[0;36mSQLiteDatabase.has_table\u001b[1;34m(self, name, schema)\u001b[0m\n\u001b[0;32m   <a href='file:///c%3A/Users/alfa/anaconda3/lib/site-packages/pandas/io/sql.py?line=2193'>2194</a>\u001b[0m wld \u001b[39m=\u001b[39m \u001b[39m\"\u001b[39m\u001b[39m?\u001b[39m\u001b[39m\"\u001b[39m\n\u001b[0;32m   <a href='file:///c%3A/Users/alfa/anaconda3/lib/site-packages/pandas/io/sql.py?line=2194'>2195</a>\u001b[0m query \u001b[39m=\u001b[39m \u001b[39mf\u001b[39m\u001b[39m\"\u001b[39m\u001b[39mSELECT name FROM sqlite_master WHERE type=\u001b[39m\u001b[39m'\u001b[39m\u001b[39mtable\u001b[39m\u001b[39m'\u001b[39m\u001b[39m AND name=\u001b[39m\u001b[39m{\u001b[39;00mwld\u001b[39m}\u001b[39;00m\u001b[39m;\u001b[39m\u001b[39m\"\u001b[39m\n\u001b[1;32m-> <a href='file:///c%3A/Users/alfa/anaconda3/lib/site-packages/pandas/io/sql.py?line=2196'>2197</a>\u001b[0m \u001b[39mreturn\u001b[39;00m \u001b[39mlen\u001b[39m(\u001b[39mself\u001b[39;49m\u001b[39m.\u001b[39;49mexecute(query, [name])\u001b[39m.\u001b[39mfetchall()) \u001b[39m>\u001b[39m \u001b[39m0\u001b[39m\n",
      "File \u001b[1;32mc:\\Users\\alfa\\anaconda3\\lib\\site-packages\\pandas\\io\\sql.py:2018\u001b[0m, in \u001b[0;36mSQLiteDatabase.execute\u001b[1;34m(self, *args, **kwargs)\u001b[0m\n\u001b[0;32m   <a href='file:///c%3A/Users/alfa/anaconda3/lib/site-packages/pandas/io/sql.py?line=2016'>2017</a>\u001b[0m \u001b[39mdef\u001b[39;00m \u001b[39mexecute\u001b[39m(\u001b[39mself\u001b[39m, \u001b[39m*\u001b[39margs, \u001b[39m*\u001b[39m\u001b[39m*\u001b[39mkwargs):\n\u001b[1;32m-> <a href='file:///c%3A/Users/alfa/anaconda3/lib/site-packages/pandas/io/sql.py?line=2017'>2018</a>\u001b[0m     cur \u001b[39m=\u001b[39m \u001b[39mself\u001b[39;49m\u001b[39m.\u001b[39;49mcon\u001b[39m.\u001b[39;49mcursor()\n\u001b[0;32m   <a href='file:///c%3A/Users/alfa/anaconda3/lib/site-packages/pandas/io/sql.py?line=2018'>2019</a>\u001b[0m     \u001b[39mtry\u001b[39;00m:\n\u001b[0;32m   <a href='file:///c%3A/Users/alfa/anaconda3/lib/site-packages/pandas/io/sql.py?line=2019'>2020</a>\u001b[0m         cur\u001b[39m.\u001b[39mexecute(\u001b[39m*\u001b[39margs, \u001b[39m*\u001b[39m\u001b[39m*\u001b[39mkwargs)\n",
      "\u001b[1;31mAttributeError\u001b[0m: 'function' object has no attribute 'cursor'"
     ]
    }
   ],
   "source": [
    "import requests\n",
    "import json\n",
    "import pandas as pd\n",
    "import sqlite3\n",
    "import datetime\n",
    "from connect_to_weatherinfo import create_connection\n",
    "from sqlite3 import Error\n",
    "\n",
    "stadt = \"Alsdorf\"\n",
    "land = \"Germany\"\n",
    "api_key = '1f376d57a9f8db239af30093b382b340'\n",
    "\n",
    "df = pd.read_json(\"data.json\", orient='index')\n",
    "dfc = df.iat[4, 0]\n",
    "dfl = pd.json_normalize(dfc)\n",
    "dfl.rename(columns = {'id':'city_id', 'name':'city_name', \"coord.lat\":\"coord_lat\", \"coord.lon\":\"coord_lon\"}, inplace=True)\n",
    "dfl[\"create_date\"] = datetime.datetime.now()\n",
    "df.to_sql(dfl, con=create_connection, index=False) \n",
    "\n",
    "\n",
    "\n"
   ]
  },
  {
   "cell_type": "code",
   "execution_count": 95,
   "metadata": {},
   "outputs": [
    {
     "name": "stdout",
     "output_type": "stream",
     "text": [
      "2.6.0\n"
     ]
    }
   ],
   "source": [
    "def create_connection(db_file):\n",
    "    \"\"\" create a database connection to a SQLite database \"\"\"\n",
    "    conn = None\n",
    "    try:\n",
    "        conn = sqlite3.connect(db_file)\n",
    "        print(sqlite3.version)\n",
    "    except Error as e:\n",
    "        print(e)\n",
    "    finally:\n",
    "        if conn:\n",
    "            conn.close()\n",
    "\n",
    "\n",
    "if __name__ == '__main__':\n",
    "    create_connection(r\"C:\\Users\\alfa\\PycharmProjects\\WeatherApp\\weatherinfo.db\")"
   ]
  },
  {
   "cell_type": "code",
   "execution_count": 98,
   "metadata": {},
   "outputs": [
    {
     "name": "stdout",
     "output_type": "stream",
     "text": [
      "2.6.0\n",
      "2.6.0\n",
      "Error! cannot create the database connection.\n"
     ]
    }
   ],
   "source": [
    "def create_connection(db_file):\n",
    "    \"\"\" create a database connection to a SQLite database \"\"\"\n",
    "    conn = None\n",
    "    try:\n",
    "        conn = sqlite3.connect(db_file)\n",
    "        print(sqlite3.version)\n",
    "    except Error as e:\n",
    "        print(e)\n",
    "    finally:\n",
    "        if conn:\n",
    "            conn.close()\n",
    "\n",
    "def create_tables():\n",
    "    database = r\"C:\\Users\\alfa\\PycharmProjects\\WeatherApp\\weatherinfo.db\"\n",
    "\n",
    "    sql_create_weather_request_table = \"\"\" CREATE TABLE IF NOT EXISTS weather_request (\n",
    "        id integer PRIMARY KEY AUTOINCREMENT,\n",
    "        create_date DATETIME,\n",
    "        city_id\tINTEGER,\n",
    "        city_name TEXT,\n",
    "        country TEXT,\n",
    "        population INTEGER,\n",
    "        timezone INTEGER,\n",
    "        sunrise INTEGER,\n",
    "        sunset INTEGER,\n",
    "        coord.lat REAL,\n",
    "        coord.lon REAL\n",
    "                                    ); \"\"\"\n",
    "\n",
    "    # create a database connection\n",
    "    conn = create_connection(database)\n",
    "\n",
    "    # create tables\n",
    "    if conn is not None:\n",
    "        # create weather_request table\n",
    "        create_table(conn, sql_create_weather_request_table)\n",
    "    else:\n",
    "        print(\"Error! cannot create the database connection.\")\n",
    "\n",
    "if __name__ == '__main__':\n",
    "    create_connection(r\"C:\\Users\\alfa\\PycharmProjects\\WeatherApp\\weatherinfo.db\")\n",
    "    create_tables()"
   ]
  }
 ],
 "metadata": {
  "interpreter": {
   "hash": "a686eacae0780e1e857f117e7cc088d39539b02ef9df06a811e571c5d83546d7"
  },
  "kernelspec": {
   "display_name": "Python 3.9.12 ('base')",
   "language": "python",
   "name": "python3"
  },
  "language_info": {
   "codemirror_mode": {
    "name": "ipython",
    "version": 3
   },
   "file_extension": ".py",
   "mimetype": "text/x-python",
   "name": "python",
   "nbconvert_exporter": "python",
   "pygments_lexer": "ipython3",
   "version": "3.9.12"
  },
  "orig_nbformat": 4
 },
 "nbformat": 4,
 "nbformat_minor": 2
}
